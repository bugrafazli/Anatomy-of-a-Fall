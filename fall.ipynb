{
 "cells": [
  {
   "cell_type": "code",
   "execution_count": 2,
   "metadata": {
    "executionInfo": {
     "elapsed": 1178,
     "status": "ok",
     "timestamp": 1686728642337,
     "user": {
      "displayName": "Teoman Naskali",
      "userId": "18153150445170187632"
     },
     "user_tz": -180
    },
    "id": "CcU83hEZRXgJ"
   },
   "outputs": [],
   "source": [
    "import sympy as smp"
   ]
  },
  {
   "cell_type": "markdown",
   "metadata": {
    "id": "0IcWIhQDiwwq"
   },
   "source": [
    "Düşen bir nesne ve sabit ivmelenme ile yükselen bir platform olduğunu varsayın.\n",
    "\n"
   ]
  },
  {
   "cell_type": "markdown",
   "metadata": {
    "id": "Csf-mzBc-snu"
   },
   "source": [
    "Nesne ile düzlemin aynı süratte çarpışması için düşen nesnenin platforma göre başlangıç süratinin ne olması gerekmektedir?"
   ]
  },
  {
   "cell_type": "code",
   "execution_count": 3,
   "metadata": {
    "executionInfo": {
     "elapsed": 29,
     "status": "ok",
     "timestamp": 1686728642337,
     "user": {
      "displayName": "Teoman Naskali",
      "userId": "18153150445170187632"
     },
     "user_tz": -180
    },
    "id": "2YNVlclQj-8T"
   },
   "outputs": [],
   "source": [
    "t, hn0, vn0, g, vp0, q = smp.symbols('t h_n_0 v_n_0 g v_p_0 q', real=True, positive=True)"
   ]
  },
  {
   "cell_type": "code",
   "execution_count": 4,
   "metadata": {
    "colab": {
     "base_uri": "https://localhost:8080/",
     "height": 38
    },
    "executionInfo": {
     "elapsed": 28,
     "status": "ok",
     "timestamp": 1686728642337,
     "user": {
      "displayName": "Teoman Naskali",
      "userId": "18153150445170187632"
     },
     "user_tz": -180
    },
    "id": "dicvSWQ4kOSd",
    "outputId": "73eb4ddb-7f5a-4dd1-aae1-d3550c2049ea"
   },
   "outputs": [
    {
     "data": {
      "text/latex": [
       "$\\displaystyle t$"
      ],
      "text/plain": [
       "t"
      ]
     },
     "execution_count": 4,
     "metadata": {},
     "output_type": "execute_result"
    }
   ],
   "source": [
    "t #zaman"
   ]
  },
  {
   "cell_type": "code",
   "execution_count": 4,
   "metadata": {
    "colab": {
     "base_uri": "https://localhost:8080/",
     "height": 38
    },
    "executionInfo": {
     "elapsed": 24,
     "status": "ok",
     "timestamp": 1686728642337,
     "user": {
      "displayName": "Teoman Naskali",
      "userId": "18153150445170187632"
     },
     "user_tz": -180
    },
    "id": "PEVSlRxd_4cA",
    "outputId": "2d97ad33-2d73-4255-a197-c7ebbdeb7357"
   },
   "outputs": [
    {
     "data": {
      "text/latex": [
       "$\\displaystyle h_{n 0}$"
      ],
      "text/plain": [
       "h_n_0"
      ]
     },
     "execution_count": 4,
     "metadata": {},
     "output_type": "execute_result"
    }
   ],
   "source": [
    "hn0 # nesnenin t0 anindaki yuksekligi"
   ]
  },
  {
   "cell_type": "code",
   "execution_count": 5,
   "metadata": {
    "colab": {
     "base_uri": "https://localhost:8080/",
     "height": 38
    },
    "executionInfo": {
     "elapsed": 22,
     "status": "ok",
     "timestamp": 1686728642337,
     "user": {
      "displayName": "Teoman Naskali",
      "userId": "18153150445170187632"
     },
     "user_tz": -180
    },
    "id": "rPkm-iFTADsu",
    "outputId": "ecb6f85d-2ffa-4b80-9f2f-bbe969ac1a89"
   },
   "outputs": [
    {
     "data": {
      "text/latex": [
       "$\\displaystyle v_{n 0}$"
      ],
      "text/plain": [
       "v_n_0"
      ]
     },
     "execution_count": 5,
     "metadata": {},
     "output_type": "execute_result"
    }
   ],
   "source": [
    "vn0 # nesnenin t0 anindaki surati"
   ]
  },
  {
   "cell_type": "code",
   "execution_count": 6,
   "metadata": {
    "colab": {
     "base_uri": "https://localhost:8080/",
     "height": 38
    },
    "executionInfo": {
     "elapsed": 20,
     "status": "ok",
     "timestamp": 1686728642337,
     "user": {
      "displayName": "Teoman Naskali",
      "userId": "18153150445170187632"
     },
     "user_tz": -180
    },
    "id": "f2Y0rCVnAI-t",
    "outputId": "6ad865bf-6c7b-471b-e9b7-437f7a0f791c"
   },
   "outputs": [
    {
     "data": {
      "text/latex": [
       "$\\displaystyle g$"
      ],
      "text/plain": [
       "g"
      ]
     },
     "execution_count": 6,
     "metadata": {},
     "output_type": "execute_result"
    }
   ],
   "source": [
    "g # yercekimi ivmelenmesi"
   ]
  },
  {
   "cell_type": "code",
   "execution_count": 7,
   "metadata": {
    "colab": {
     "base_uri": "https://localhost:8080/",
     "height": 38
    },
    "executionInfo": {
     "elapsed": 19,
     "status": "ok",
     "timestamp": 1686728642337,
     "user": {
      "displayName": "Teoman Naskali",
      "userId": "18153150445170187632"
     },
     "user_tz": -180
    },
    "id": "A9pooyEGANlc",
    "outputId": "3379bb2c-852a-40d0-aede-fb2e02e7271d"
   },
   "outputs": [
    {
     "data": {
      "text/latex": [
       "$\\displaystyle v_{p 0}$"
      ],
      "text/plain": [
       "v_p_0"
      ]
     },
     "execution_count": 7,
     "metadata": {},
     "output_type": "execute_result"
    }
   ],
   "source": [
    "vp0 # platformun baslangic surati"
   ]
  },
  {
   "cell_type": "code",
   "execution_count": 8,
   "metadata": {
    "colab": {
     "base_uri": "https://localhost:8080/",
     "height": 38
    },
    "executionInfo": {
     "elapsed": 19,
     "status": "ok",
     "timestamp": 1686728642338,
     "user": {
      "displayName": "Teoman Naskali",
      "userId": "18153150445170187632"
     },
     "user_tz": -180
    },
    "id": "78sNVxgn_4T8",
    "outputId": "de76ad1a-3560-49d9-8fa4-7ecebe994be6"
   },
   "outputs": [
    {
     "data": {
      "text/latex": [
       "$\\displaystyle q$"
      ],
      "text/plain": [
       "q"
      ]
     },
     "execution_count": 8,
     "metadata": {},
     "output_type": "execute_result"
    }
   ],
   "source": [
    "q # platformun ivmelenmesi"
   ]
  },
  {
   "cell_type": "markdown",
   "metadata": {
    "id": "nUnNZv2iChC9"
   },
   "source": [
    "# Adım 1"
   ]
  },
  {
   "cell_type": "markdown",
   "metadata": {
    "id": "RCLCX6R5BYLe"
   },
   "source": [
    "Nesnenin ve platformun zamana göre yüksekliklerini ( $h_n(t)$ ve $h_p(t)$)  hnt ve hpt isimli değişkenlerde tanımlayın. (Yukarıda tanımlı değişkenleri kullanarak ve yönlere dikkat ederek)"
   ]
  },
  {
   "cell_type": "code",
   "execution_count": 10,
   "metadata": {
    "colab": {
     "base_uri": "https://localhost:8080/",
     "height": 134
    },
    "executionInfo": {
     "elapsed": 18,
     "status": "error",
     "timestamp": 1686728642338,
     "user": {
      "displayName": "Teoman Naskali",
      "userId": "18153150445170187632"
     },
     "user_tz": -180
    },
    "id": "Ka8Ozm6A_4L7",
    "outputId": "f01cab36-61bc-4c46-e753-f210d0b933e2"
   },
   "outputs": [],
   "source": [
    "#hnt =  # smp.Rational komutunu da kullanin\n",
    "hnt = hn0 - (vn0) * t - smp.Rational(1/2)*(g*(t**2))\n"
   ]
  },
  {
   "cell_type": "code",
   "execution_count": 11,
   "metadata": {
    "executionInfo": {
     "elapsed": 17,
     "status": "aborted",
     "timestamp": 1686728642338,
     "user": {
      "displayName": "Teoman Naskali",
      "userId": "18153150445170187632"
     },
     "user_tz": -180
    },
    "id": "2wH7uvzGD-H3"
   },
   "outputs": [
    {
     "data": {
      "text/latex": [
       "$\\displaystyle - \\frac{g t^{2}}{2} + h_{n 0} - t v_{n 0}$"
      ],
      "text/plain": [
       "-g*t**2/2 + h_n_0 - t*v_n_0"
      ]
     },
     "execution_count": 11,
     "metadata": {},
     "output_type": "execute_result"
    }
   ],
   "source": [
    "hnt #formulu formek icin"
   ]
  },
  {
   "cell_type": "code",
   "execution_count": 13,
   "metadata": {
    "executionInfo": {
     "elapsed": 16,
     "status": "aborted",
     "timestamp": 1686728642338,
     "user": {
      "displayName": "Teoman Naskali",
      "userId": "18153150445170187632"
     },
     "user_tz": -180
    },
    "id": "6dNNkt_q_4C8"
   },
   "outputs": [],
   "source": [
    "#hpt =  # smp.Rational komutunu kullanarak\n",
    "hpt = (vp0 * t) + smp.Rational(1/2)*(q*(t**2))"
   ]
  },
  {
   "cell_type": "code",
   "execution_count": 14,
   "metadata": {
    "executionInfo": {
     "elapsed": 15,
     "status": "aborted",
     "timestamp": 1686728642338,
     "user": {
      "displayName": "Teoman Naskali",
      "userId": "18153150445170187632"
     },
     "user_tz": -180
    },
    "id": "z6OdKJ_i_3y8"
   },
   "outputs": [
    {
     "data": {
      "text/latex": [
       "$\\displaystyle \\frac{q t^{2}}{2} + t v_{p 0}$"
      ],
      "text/plain": [
       "q*t**2/2 + t*v_p_0"
      ]
     },
     "execution_count": 14,
     "metadata": {},
     "output_type": "execute_result"
    }
   ],
   "source": [
    "hpt #formulu gormek icin"
   ]
  },
  {
   "cell_type": "markdown",
   "metadata": {
    "id": "Fi6xyQCwzPh-"
   },
   "source": [
    "# Adım 2"
   ]
  },
  {
   "cell_type": "markdown",
   "metadata": {
    "id": "TiA7cy2-Qhfv"
   },
   "source": [
    "Nesnenin ve platformun süratlerini ( $v_n(t)$ $v_p(t)$   ) zamana  göre türev alarak hesaplayın ve vnt ve vpt isimli değsikdnlere kaydedin."
   ]
  },
  {
   "cell_type": "code",
   "execution_count": 19,
   "metadata": {
    "executionInfo": {
     "elapsed": 15,
     "status": "aborted",
     "timestamp": 1686728642338,
     "user": {
      "displayName": "Teoman Naskali",
      "userId": "18153150445170187632"
     },
     "user_tz": -180
    },
    "id": "xFxMby3WRon1"
   },
   "outputs": [],
   "source": [
    "vnt = smp.diff(hnt,t)"
   ]
  },
  {
   "cell_type": "code",
   "execution_count": 20,
   "metadata": {
    "executionInfo": {
     "elapsed": 15,
     "status": "aborted",
     "timestamp": 1686728642338,
     "user": {
      "displayName": "Teoman Naskali",
      "userId": "18153150445170187632"
     },
     "user_tz": -180
    },
    "id": "dce2Y-TLRpxY"
   },
   "outputs": [
    {
     "data": {
      "text/latex": [
       "$\\displaystyle - g t - v_{n 0}$"
      ],
      "text/plain": [
       "-g*t - v_n_0"
      ]
     },
     "execution_count": 20,
     "metadata": {},
     "output_type": "execute_result"
    }
   ],
   "source": [
    "vnt"
   ]
  },
  {
   "cell_type": "code",
   "execution_count": 21,
   "metadata": {
    "executionInfo": {
     "elapsed": 16,
     "status": "aborted",
     "timestamp": 1686728642339,
     "user": {
      "displayName": "Teoman Naskali",
      "userId": "18153150445170187632"
     },
     "user_tz": -180
    },
    "id": "lFWGkXl0Rpo8"
   },
   "outputs": [],
   "source": [
    "vpt = smp.diff(hpt,t)"
   ]
  },
  {
   "cell_type": "code",
   "execution_count": 22,
   "metadata": {
    "executionInfo": {
     "elapsed": 16,
     "status": "aborted",
     "timestamp": 1686728642339,
     "user": {
      "displayName": "Teoman Naskali",
      "userId": "18153150445170187632"
     },
     "user_tz": -180
    },
    "id": "eVxztSChRpbw"
   },
   "outputs": [
    {
     "data": {
      "text/latex": [
       "$\\displaystyle q t + v_{p 0}$"
      ],
      "text/plain": [
       "q*t + v_p_0"
      ]
     },
     "execution_count": 22,
     "metadata": {},
     "output_type": "execute_result"
    }
   ],
   "source": [
    "vpt"
   ]
  },
  {
   "cell_type": "markdown",
   "metadata": {
    "id": "8g94yaEQzUGQ"
   },
   "source": [
    "# Adım 3"
   ]
  },
  {
   "cell_type": "markdown",
   "metadata": {
    "id": "7A1aDbOGUTfo"
   },
   "source": [
    "Çarpışma anında yüksekliklerin aynı olacağını göz önünde bulundurarark, bir denklem oluşturun. $EQ1$\n",
    "\n",
    "Çapışma anında süratlerin aynı (fakat zıt yönlü) olduğunu göz önünde buluşturarark ikinci bir denklem oluşturun. $EQ2$\n",
    "\n",
    "Bu iki denklemi $EQ1 = 0$ ve $EQ2 = 0$ şeklinde yazın eq1 ve eq2 isimli değişkenlerde tanımlayın."
   ]
  },
  {
   "cell_type": "code",
   "execution_count": 23,
   "metadata": {
    "executionInfo": {
     "elapsed": 16,
     "status": "aborted",
     "timestamp": 1686728642339,
     "user": {
      "displayName": "Teoman Naskali",
      "userId": "18153150445170187632"
     },
     "user_tz": -180
    },
    "id": "mKklId4NWRnP"
   },
   "outputs": [],
   "source": [
    "eq1 = hnt - hpt"
   ]
  },
  {
   "cell_type": "code",
   "execution_count": 24,
   "metadata": {
    "executionInfo": {
     "elapsed": 15,
     "status": "aborted",
     "timestamp": 1686728642339,
     "user": {
      "displayName": "Teoman Naskali",
      "userId": "18153150445170187632"
     },
     "user_tz": -180
    },
    "id": "I1S-4ZsNWn7O"
   },
   "outputs": [
    {
     "data": {
      "text/latex": [
       "$\\displaystyle - \\frac{g t^{2}}{2} + h_{n 0} - \\frac{q t^{2}}{2} - t v_{n 0} - t v_{p 0}$"
      ],
      "text/plain": [
       "-g*t**2/2 + h_n_0 - q*t**2/2 - t*v_n_0 - t*v_p_0"
      ]
     },
     "execution_count": 24,
     "metadata": {},
     "output_type": "execute_result"
    }
   ],
   "source": [
    "eq1"
   ]
  },
  {
   "cell_type": "code",
   "execution_count": 25,
   "metadata": {
    "executionInfo": {
     "elapsed": 15,
     "status": "aborted",
     "timestamp": 1686728642339,
     "user": {
      "displayName": "Teoman Naskali",
      "userId": "18153150445170187632"
     },
     "user_tz": -180
    },
    "id": "ipcr_kSlWRaU"
   },
   "outputs": [],
   "source": [
    "eq2 = vnt + vpt"
   ]
  },
  {
   "cell_type": "code",
   "execution_count": 26,
   "metadata": {
    "executionInfo": {
     "elapsed": 15,
     "status": "aborted",
     "timestamp": 1686728642339,
     "user": {
      "displayName": "Teoman Naskali",
      "userId": "18153150445170187632"
     },
     "user_tz": -180
    },
    "id": "2RAbolgpWoTz"
   },
   "outputs": [
    {
     "data": {
      "text/latex": [
       "$\\displaystyle - g t + q t - v_{n 0} + v_{p 0}$"
      ],
      "text/plain": [
       "-g*t + q*t - v_n_0 + v_p_0"
      ]
     },
     "execution_count": 26,
     "metadata": {},
     "output_type": "execute_result"
    }
   ],
   "source": [
    "eq2"
   ]
  },
  {
   "cell_type": "markdown",
   "metadata": {
    "id": "xirdcofdzbsR"
   },
   "source": [
    "# Adım 4"
   ]
  },
  {
   "cell_type": "markdown",
   "metadata": {
    "id": "JtTwywS6Wx0p"
   },
   "source": [
    "Tanımlamış olduğunuz iki denklemi [eq1, eq2] zamana ve başlangıç süratine [t,vn0] a göre çözün"
   ]
  },
  {
   "cell_type": "code",
   "execution_count": 41,
   "metadata": {
    "executionInfo": {
     "elapsed": 15,
     "status": "aborted",
     "timestamp": 1686728642339,
     "user": {
      "displayName": "Teoman Naskali",
      "userId": "18153150445170187632"
     },
     "user_tz": -180
    },
    "id": "FCtWhB17XJTa"
   },
   "outputs": [],
   "source": [
    "carpma_t, carpma_v = smp.solve((eq1,eq2),(t,vn0))[0]"
   ]
  },
  {
   "cell_type": "code",
   "execution_count": 42,
   "metadata": {
    "executionInfo": {
     "elapsed": 16,
     "status": "aborted",
     "timestamp": 1686728642340,
     "user": {
      "displayName": "Teoman Naskali",
      "userId": "18153150445170187632"
     },
     "user_tz": -180
    },
    "id": "wTGyWicRUSot"
   },
   "outputs": [
    {
     "data": {
      "text/latex": [
       "$\\displaystyle \\frac{- v_{p 0} + \\frac{v_{p 0} \\left(g + q\\right)}{- g + 3 q} - \\frac{\\sqrt{2} \\left(- g + q\\right) \\sqrt{- g h_{n 0} + 3 h_{n 0} q + 2 v_{p 0}^{2}}}{- g + 3 q}}{- g + q}$"
      ],
      "text/plain": [
       "(-v_p_0 + v_p_0*(g + q)/(-g + 3*q) - sqrt(2)*(-g + q)*sqrt(-g*h_n_0 + 3*h_n_0*q + 2*v_p_0**2)/(-g + 3*q))/(-g + q)"
      ]
     },
     "execution_count": 42,
     "metadata": {},
     "output_type": "execute_result"
    }
   ],
   "source": [
    "carpma_t"
   ]
  },
  {
   "cell_type": "code",
   "execution_count": 43,
   "metadata": {
    "executionInfo": {
     "elapsed": 16,
     "status": "aborted",
     "timestamp": 1686728642340,
     "user": {
      "displayName": "Teoman Naskali",
      "userId": "18153150445170187632"
     },
     "user_tz": -180
    },
    "id": "q7ZdmJGcYogW"
   },
   "outputs": [
    {
     "data": {
      "text/latex": [
       "$\\displaystyle \\frac{v_{p 0} \\left(g + q\\right)}{- g + 3 q} - \\frac{\\sqrt{2} \\left(- g + q\\right) \\sqrt{- g h_{n 0} + 3 h_{n 0} q + 2 v_{p 0}^{2}}}{- g + 3 q}$"
      ],
      "text/plain": [
       "v_p_0*(g + q)/(-g + 3*q) - sqrt(2)*(-g + q)*sqrt(-g*h_n_0 + 3*h_n_0*q + 2*v_p_0**2)/(-g + 3*q)"
      ]
     },
     "execution_count": 43,
     "metadata": {},
     "output_type": "execute_result"
    }
   ],
   "source": [
    "carpma_v"
   ]
  },
  {
   "cell_type": "markdown",
   "metadata": {
    "id": "eYk3fJ17Y_wR"
   },
   "source": [
    "Sympy kütüphanesine denklemlerin basit halini yazdırın. (Hiç basit gözükmüyorlar)"
   ]
  },
  {
   "cell_type": "code",
   "execution_count": 64,
   "metadata": {
    "executionInfo": {
     "elapsed": 16,
     "status": "aborted",
     "timestamp": 1686728642340,
     "user": {
      "displayName": "Teoman Naskali",
      "userId": "18153150445170187632"
     },
     "user_tz": -180
    },
    "id": "QBV4_xJIZaAU"
   },
   "outputs": [
    {
     "data": {
      "text/latex": [
       "$\\displaystyle \\frac{- 2 v_{p 0} - \\sqrt{- 2 g h_{n 0} + 6 h_{n 0} q + 4 v_{p 0}^{2}}}{- g + 3 q}$"
      ],
      "text/plain": [
       "(-2*v_p_0 - sqrt(-2*g*h_n_0 + 6*h_n_0*q + 4*v_p_0**2))/(-g + 3*q)"
      ]
     },
     "execution_count": 64,
     "metadata": {},
     "output_type": "execute_result"
    }
   ],
   "source": [
    "basit1 = smp.simplify(carpma_t)\n",
    "basit1"
   ]
  },
  {
   "cell_type": "code",
   "execution_count": 63,
   "metadata": {
    "executionInfo": {
     "elapsed": 16,
     "status": "aborted",
     "timestamp": 1686728642340,
     "user": {
      "displayName": "Teoman Naskali",
      "userId": "18153150445170187632"
     },
     "user_tz": -180
    },
    "id": "Jw8xBbgaZZYS"
   },
   "outputs": [
    {
     "data": {
      "text/latex": [
       "$\\displaystyle \\frac{- v_{p 0} \\left(g + q\\right) + \\left(- g + q\\right) \\sqrt{- 2 g h_{n 0} + 6 h_{n 0} q + 4 v_{p 0}^{2}}}{g - 3 q}$"
      ],
      "text/plain": [
       "(-v_p_0*(g + q) + (-g + q)*sqrt(-2*g*h_n_0 + 6*h_n_0*q + 4*v_p_0**2))/(g - 3*q)"
      ]
     },
     "execution_count": 63,
     "metadata": {},
     "output_type": "execute_result"
    }
   ],
   "source": [
    "basit2 = smp.simplify(carpma_v)\n",
    "basit2"
   ]
  },
  {
   "cell_type": "markdown",
   "metadata": {
    "id": "JQkMt42W1Z5t"
   },
   "source": [
    "# Adım 5"
   ]
  },
  {
   "cell_type": "markdown",
   "metadata": {
    "id": "ZeELDWIjZnik"
   },
   "source": [
    "$v_n(t)$ ve $v_p(t)$ denklemlerinin içine yukarıda bulduğunuz çarpma zamanının ve süratinin değerini yerleştirin. Değerlerin aynı, işaretlerin zıt olduğunu doğrulayın (Bakarak)."
   ]
  },
  {
   "cell_type": "code",
   "execution_count": 85,
   "metadata": {
    "executionInfo": {
     "elapsed": 15,
     "status": "aborted",
     "timestamp": 1686728642340,
     "user": {
      "displayName": "Teoman Naskali",
      "userId": "18153150445170187632"
     },
     "user_tz": -180
    },
    "id": "QN4KT54VaosR"
   },
   "outputs": [
    {
     "data": {
      "text/latex": [
       "$\\displaystyle \\frac{- v_{p 0} \\left(g + q\\right) + \\left(- g + q\\right) \\sqrt{- 2 g h_{n 0} + 6 h_{n 0} q + 4 v_{p 0}^{2}}}{g - 3 q}$"
      ],
      "text/plain": [
       "(-v_p_0*(g + q) + (-g + q)*sqrt(-2*g*h_n_0 + 6*h_n_0*q + 4*v_p_0**2))/(g - 3*q)"
      ]
     },
     "execution_count": 85,
     "metadata": {},
     "output_type": "execute_result"
    }
   ],
   "source": [
    "vnt = vnt.subs([(t,carpma_t),(vnt,carpma_v)])\n",
    "smp.simplify(vnt)"
   ]
  },
  {
   "cell_type": "code",
   "execution_count": 86,
   "metadata": {
    "executionInfo": {
     "elapsed": 15,
     "status": "aborted",
     "timestamp": 1686728642340,
     "user": {
      "displayName": "Teoman Naskali",
      "userId": "18153150445170187632"
     },
     "user_tz": -180
    },
    "id": "i1JhRs9bapNC"
   },
   "outputs": [
    {
     "data": {
      "text/latex": [
       "$\\displaystyle \\frac{v_{p 0} \\left(g + q\\right) + \\left(g - q\\right) \\sqrt{- 2 g h_{n 0} + 6 h_{n 0} q + 4 v_{p 0}^{2}}}{g - 3 q}$"
      ],
      "text/plain": [
       "(v_p_0*(g + q) + (g - q)*sqrt(-2*g*h_n_0 + 6*h_n_0*q + 4*v_p_0**2))/(g - 3*q)"
      ]
     },
     "execution_count": 86,
     "metadata": {},
     "output_type": "execute_result"
    }
   ],
   "source": [
    "vpt = vpt.subs([(t,carpma_t),(vpt,-carpma_v)])\n",
    "smp.simplify(vpt)"
   ]
  },
  {
   "cell_type": "markdown",
   "metadata": {
    "id": "cTo0V2391k7n"
   },
   "source": [
    "# Adım 6"
   ]
  },
  {
   "cell_type": "markdown",
   "metadata": {
    "id": "7L2-IdYij2JO"
   },
   "source": [
    "Başlangıç yüksekliği için 10m, platformun başlangıç sürati için 1ms nesnenin başlangıç sürati için 1ms, yerçekimi ivmelenmesi için 9.8 ve platformun ivmelenmesi için 5 değerlerini girerek çarpışma süratini hesaplayın."
   ]
  },
  {
   "cell_type": "code",
   "execution_count": 87,
   "metadata": {
    "executionInfo": {
     "elapsed": 15,
     "status": "aborted",
     "timestamp": 1686728642340,
     "user": {
      "displayName": "Teoman Naskali",
      "userId": "18153150445170187632"
     },
     "user_tz": -180
    },
    "id": "qqJ1kesmkiEu"
   },
   "outputs": [
    {
     "data": {
      "text/latex": [
       "$\\displaystyle 0.193548387096774 + 9.43582850211533 \\sqrt{2}$"
      ],
      "text/plain": [
       "0.193548387096774 + 9.43582850211533*sqrt(2)"
      ]
     },
     "execution_count": 87,
     "metadata": {},
     "output_type": "execute_result"
    }
   ],
   "source": [
    "time = vpt.subs([(hn0,10),(vp0,1),(vn0,-1),(g,-9.8),(q,5)])\n",
    "time"
   ]
  },
  {
   "cell_type": "markdown",
   "metadata": {
    "id": "Pl1PFFsC1o5U"
   },
   "source": [
    "# Adım 7"
   ]
  },
  {
   "cell_type": "markdown",
   "metadata": {
    "id": "l85cQKrzyF76"
   },
   "source": [
    "Şablon olarak kullanacağınız bir MS Word Dosyası Oluşturun. Bu dosyanın içindeğ adınızı soyadınızı ve numaranızı girebileceğiniz bir kodlama yapın."
   ]
  },
  {
   "cell_type": "code",
   "execution_count": 98,
   "metadata": {
    "executionInfo": {
     "elapsed": 16,
     "status": "aborted",
     "timestamp": 1686728642341,
     "user": {
      "displayName": "Teoman Naskali",
      "userId": "18153150445170187632"
     },
     "user_tz": -180
    },
    "id": "FsQnJ6mKywoE"
   },
   "outputs": [],
   "source": [
    "from docx import Document\n",
    "doc = Document()\n",
    "doc.add_paragraph('Isim:')\n",
    "doc.add_paragraph('Soyisim:')\n",
    "doc.add_paragraph('Numara:')\n",
    "doc.save('21401922final1.docx')"
   ]
  },
  {
   "cell_type": "markdown",
   "metadata": {
    "id": "5tf-8Y751sLI"
   },
   "source": [
    "# Adım 8"
   ]
  },
  {
   "cell_type": "markdown",
   "metadata": {
    "id": "bDBajyBKya9_"
   },
   "source": [
    "Yazılım ile adınızı, soyadınızı ve numaranızı doğru yere yazdının."
   ]
  },
  {
   "cell_type": "code",
   "execution_count": 99,
   "metadata": {
    "executionInfo": {
     "elapsed": 2501,
     "status": "aborted",
     "timestamp": 1686728642341,
     "user": {
      "displayName": "Teoman Naskali",
      "userId": "18153150445170187632"
     },
     "user_tz": -180
    },
    "id": "kgJxBRnsyxXr"
   },
   "outputs": [],
   "source": [
    "paragraf1 = doc.paragraphs[0]\n",
    "paragraf1.add_run(\"Ahmet Bugra\")\n",
    "paragraf2 = doc.paragraphs[1]\n",
    "paragraf2.add_run('Fazlioglu')\n",
    "paragraf3 = doc.paragraphs[2]\n",
    "paragraf3.add_run('21401922')\n",
    "doc.save('21401922final1.docx')"
   ]
  },
  {
   "cell_type": "markdown",
   "metadata": {
    "id": "ylifKOcM1u41"
   },
   "source": [
    "# Adım 9"
   ]
  },
  {
   "cell_type": "markdown",
   "metadata": {
    "id": "U-hU1PYjpwMj"
   },
   "source": [
    "Başlangıç anından çarpma anına kadar nesnenin konumunun grafiğini çıkarın. (Eksenler düzgün etiketlenmiş)"
   ]
  },
  {
   "cell_type": "code",
   "execution_count": 100,
   "metadata": {
    "executionInfo": {
     "elapsed": 2500,
     "status": "aborted",
     "timestamp": 1686728642341,
     "user": {
      "displayName": "Teoman Naskali",
      "userId": "18153150445170187632"
     },
     "user_tz": -180
    },
    "id": "vqADoWxtyzIz"
   },
   "outputs": [
    {
     "data": {
      "image/png": "[encoded data removed]",
      "text/plain": [
       "<Figure size 640x480 with 1 Axes>"
      ]
     },
     "metadata": {},
     "output_type": "display_data"
    }
   ],
   "source": [
    "import numpy as np\n",
    "import matplotlib.pyplot as plt\n",
    "h0 = 10\n",
    "t_max = np.sqrt(2 * h0 / 9.8)\n",
    "t = np.linspace(0,t_max,100)\n",
    "y = h0 - (1/2)* 9.8 * (t**2)\n",
    "y[y<0]= 0\n",
    "plt.plot(t,y)\n",
    "plt.xlabel('Time(s)')\n",
    "plt.ylabel('Height(m)')\n",
    "plt.title('Fall of Object')\n",
    "plt.grid(True)\n",
    "plt.savefig('grafik.png')\n",
    "plt.show()"
   ]
  },
  {
   "cell_type": "markdown",
   "metadata": {
    "id": "aJbYWBZ41yXD"
   },
   "source": [
    "# Adım 10"
   ]
  },
  {
   "cell_type": "markdown",
   "metadata": {
    "id": "-NWUB7XHqGHa"
   },
   "source": [
    "Çıkardığınız grafiği word dosyasına kaydedin ve PDF formatına çevirin."
   ]
  },
  {
   "cell_type": "code",
   "execution_count": 101,
   "metadata": {
    "executionInfo": {
     "elapsed": 2500,
     "status": "aborted",
     "timestamp": 1686728642341,
     "user": {
      "displayName": "Teoman Naskali",
      "userId": "18153150445170187632"
     },
     "user_tz": -180
    },
    "id": "sCWgOJEB10e4"
   },
   "outputs": [
    {
     "name": "stderr",
     "output_type": "stream",
     "text": [
      "\n",
      "\n",
      "  0%|                                                     | 0/1 [00:00<?, ?it/s]\u001b[A\u001b[A\n",
      "\n",
      "100%|█████████████████████████████████████████████| 1/1 [00:00<00:00,  1.23it/s]\u001b[A\u001b[A\n"
     ]
    }
   ],
   "source": [
    "from docx2pdf import convert\n",
    "doc.add_picture('grafik.png',width = docx.shared.Inches(5),height = docx.shared.Inches(3))\n",
    "doc.save('21401922final1.docx')\n",
    "convert('21401922final1.docx')               "
   ]
  },
  {
   "cell_type": "code",
   "execution_count": null,
   "metadata": {},
   "outputs": [],
   "source": []
  }
 ],
 "metadata": {
  "colab": {
   "authorship_tag": "ABX9TyOXwBMRS23iFcQwsVbkLzNj",
   "provenance": []
  },
  "kernelspec": {
   "display_name": "Python 3 (ipykernel)",
   "language": "python",
   "name": "python3"
  },
  "language_info": {
   "codemirror_mode": {
    "name": "ipython",
    "version": 3
   },
   "file_extension": ".py",
   "mimetype": "text/x-python",
   "name": "python",
   "nbconvert_exporter": "python",
   "pygments_lexer": "ipython3",
   "version": "3.10.9"
  }
 },
 "nbformat": 4,
 "nbformat_minor": 1
}
